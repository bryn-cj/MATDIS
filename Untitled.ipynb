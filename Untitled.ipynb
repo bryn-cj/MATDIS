import numpy as np
import skfuzzy as fuzz
from skfuzzy import control as ctrl
import matplotlib.pyplot as plt

# 1. Definisikan variabel fuzzy
pendidikan_terakhir = ctrl.Antecedent(np.arange(0, 11, 1), 'pendidikan_terakhir')
umur = ctrl.Antecedent(np.arange(18, 66, 1), 'umur')
pengangguran = ctrl.Antecedent(np.arange(0, 101, 1), 'pengangguran')
kecocokan = ctrl.Consequent(np.arange(0, 101, 1), 'kecocokan')

# 2. Definisikan himpunan fuzzy
pendidikan_terakhir['rendah'] = fuzz.trimf(pendidikan_terakhir.universe, [0, 0, 5])
pendidikan_terakhir['sedang'] = fuzz.trimf(pendidikan_terakhir.universe, [3, 5, 7])
pendidikan_terakhir['tinggi'] = fuzz.trimf(pendidikan_terakhir.universe, [5, 10, 10])

umur['muda'] = fuzz.trimf(umur.universe, [18, 18, 35])
umur['paruh_baya'] = fuzz.trimf(umur.universe, [30, 45, 60])
umur['tua'] = fuzz.trimf(umur.universe, [50, 65, 65])

pengangguran['rendah'] = fuzz.trimf(pengangguran.universe, [0, 0, 50])
pengangguran['sedang'] = fuzz.trimf(pengangguran.universe, [25, 50, 75])
pengangguran['tinggi'] = fuzz.trimf(pengangguran.universe, [50, 100, 100])

kecocokan['rendah'] = fuzz.trimf(kecocokan.universe, [0, 0, 50])
kecocokan['sedang'] = fuzz.trimf(kecocokan.universe, [25, 50, 75])
kecocokan['tinggi'] = fuzz.trimf(kecocokan.universe, [50, 100, 100])

# 3. Buat aturan fuzzy
rules = [
    ctrl.Rule(pendidikan_terakhir['tinggi'] & umur['muda'] & pengangguran['rendah'], kecocokan['tinggi']),
    ctrl.Rule(pendidikan_terakhir['sedang'] & umur['paruh_baya'] & pengangguran['sedang'], kecocokan['sedang']),
    ctrl.Rule(pendidikan_terakhir['rendah'] & umur['tua'] & pengangguran['tinggi'], kecocokan['rendah']),
    ctrl.Rule(pendidikan_terakhir['tinggi'] & umur['paruh_baya'] & pengangguran['sedang'], kecocokan['tinggi']),
    ctrl.Rule(pendidikan_terakhir['rendah'] & umur['muda'] & pengangguran['tinggi'], kecocokan['sedang']),
    ctrl.Rule(pendidikan_terakhir['sedang'] & umur['muda'] & pengangguran['rendah'], kecocokan['tinggi']),
    ctrl.Rule(pendidikan_terakhir['rendah'] & umur['paruh_baya'] & pengangguran['rendah'], kecocokan['sedang']),
    ctrl.Rule(pendidikan_terakhir['sedang'] & umur['tua'] & pengangguran['sedang'], kecocokan['sedang']),
    ctrl.Rule(pendidikan_terakhir['tinggi'] & umur['tua'] & pengangguran['tinggi'], kecocokan['rendah']),
    ctrl.Rule(pendidikan_terakhir['sedang'] & umur['muda'] & pengangguran['rendah'], kecocokan['tinggi']),
    ctrl.Rule(pendidikan_terakhir['tinggi'] & umur['muda'] & pengangguran['rendah'], kecocokan['tinggi'])
]

# 4. Buat sistem kontrol fuzzy
kecocokan_ctrl = ctrl.ControlSystem(rules)
kecocokan_simulasi = ctrl.ControlSystemSimulation(kecocokan_ctrl)

# 5. Masukkan data dan lakukan inferensi
# Contoh data untuk simulasi:
data = {
    'pendidikan_terakhir': 6,  # Misal S1
    'umur': 30,                # Misal 32 tahun
    'pengangguran': 5.65       # Misal 5.65% sesuai dengan TPT Sakernas Agustus 2023
}

kecocokan_simulasi.input['pendidikan_terakhir'] = data['pendidikan_terakhir']
kecocokan_simulasi.input['umur'] = data['umur']
kecocokan_simulasi.input['pengangguran'] = data['pengangguran']

kecocokan_simulasi.compute()

# Output hasil defuzzifikasi
print(f"Kecocokan: {kecocokan_simulasi.output['kecocokan']}")

# Visualisasi hasil
pendidikan_terakhir.view(sim=kecocokan_simulasi)
umur.view(sim=kecocokan_simulasi)
pengangguran.view(sim=kecocokan_simulasi)
kecocokan.view(sim=kecocokan_simulasi)
plt.show()

